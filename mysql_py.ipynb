{
 "cells": [
  {
   "cell_type": "code",
   "execution_count": 1,
   "id": "992eaf1a-8b9a-4138-96ac-07c557805ce7",
   "metadata": {},
   "outputs": [],
   "source": [
    "import mysql.connector\n",
    "from mysql.connector import Error\n",
    "import pandas as pd"
   ]
  },
  {
   "cell_type": "code",
   "execution_count": 2,
   "id": "b7c8383c-dfd1-4581-89ef-c1ab6b4cb995",
   "metadata": {},
   "outputs": [],
   "source": [
    "pw = \"Password\"\n",
    "host_name = \"localhost\"\n",
    "user_name = \"root\""
   ]
  },
  {
   "cell_type": "code",
   "execution_count": 3,
   "id": "b5ec9d59-0b00-4910-a996-945d7dca905d",
   "metadata": {},
   "outputs": [],
   "source": [
    "def connect_server(host_name,user_name,passwd):\n",
    "    connection = None\n",
    "    try:\n",
    "        connection = mysql.connector.connect(host = host_name,\n",
    "                                            user = user_name,\n",
    "                                            passwd = pw)\n",
    "        print(\"Conected to server\")\n",
    "    except Error as err:\n",
    "        print(f\"Server not connected try again {err}\")\n",
    "\n",
    "    return connection"
   ]
  },
  {
   "cell_type": "code",
   "execution_count": 9,
   "id": "efe77014-da32-42b8-8669-d2e432e08e97",
   "metadata": {},
   "outputs": [
    {
     "name": "stdout",
     "output_type": "stream",
     "text": [
      "Conected to server\n"
     ]
    }
   ],
   "source": [
    "connection = connect_server(host_name,user_name,pw)"
   ]
  },
  {
   "cell_type": "code",
   "execution_count": 8,
   "id": "108f4971-7599-4b51-8ed3-6e6869a39faa",
   "metadata": {},
   "outputs": [],
   "source": [
    "def Creat_batabase(connection,query):\n",
    "    cursor = connection.cursor()\n",
    "    try:\n",
    "        cursor.execute(query)\n",
    "        print(\"Database created....\")\n",
    "\n",
    "    except Erro as err:\n",
    "        print(f\"Failed to create database{err}\")"
   ]
  },
  {
   "cell_type": "code",
   "execution_count": 10,
   "id": "ef435fd4-0fa0-4b24-90df-4ec03da0eaa4",
   "metadata": {},
   "outputs": [
    {
     "name": "stdout",
     "output_type": "stream",
     "text": [
      "Database created....\n"
     ]
    }
   ],
   "source": [
    "Creat_batabase(connection,\"CREATE DATABASE orders\")"
   ]
  },
  {
   "cell_type": "code",
   "execution_count": 28,
   "id": "edaef12a-4668-4f62-82c0-8fab23e648cf",
   "metadata": {},
   "outputs": [],
   "source": [
    "def connect_database(hot_name,user_name,pw,database):\n",
    "    connection  = None\n",
    "    try :\n",
    "        connection = mysql.connector.connect(host = hot_name,\n",
    "                                            user = user_name,\n",
    "                                            passwd = pw,\n",
    "                                            database = database)\n",
    "        print(\"Connected to datbase\")\n",
    "\n",
    "    except Error as err :\n",
    "        print(f\"Failed to connect to the database {err}\")\n",
    "\n",
    "    return connection"
   ]
  },
  {
   "cell_type": "code",
   "execution_count": 29,
   "id": "63b53d1a-ec84-4b69-99c5-f95872f64034",
   "metadata": {},
   "outputs": [
    {
     "name": "stdout",
     "output_type": "stream",
     "text": [
      "Connected to datbase\n"
     ]
    }
   ],
   "source": [
    "connection = connect_database(host_name,user_name,pw,\"orders\")"
   ]
  },
  {
   "cell_type": "code",
   "execution_count": 26,
   "id": "599e7dc8-073f-4644-bc60-bb2c979451a5",
   "metadata": {},
   "outputs": [],
   "source": [
    "def execute_query(connection,query):\n",
    "    cursor = connection.cursor()\n",
    "    try:\n",
    "        cursor.execute(query)\n",
    "        connection.commit()\n",
    "        print(\"query was sucessfuly\")\n",
    "    except Error as err:\n",
    "        print(\"failed {err}\")"
   ]
  },
  {
   "cell_type": "code",
   "execution_count": 33,
   "id": "22f5d935-5aeb-4170-8533-8ef2b5e21905",
   "metadata": {},
   "outputs": [],
   "source": [
    "def read_query(connection,query):\n",
    "    cursor = connection.cursor()\n",
    "    result = None\n",
    "    try :\n",
    "        cursor.execute(query)\n",
    "        result = cursor.fetchall()\n",
    "        return result\n",
    "\n",
    "    except Error as err :\n",
    "        print(f\"Failed to fetch data {err}\")\n",
    "        return None"
   ]
  },
  {
   "cell_type": "code",
   "execution_count": 31,
   "id": "13e0aab2-b349-4adb-a9b2-6dd34e714906",
   "metadata": {},
   "outputs": [
    {
     "name": "stdout",
     "output_type": "stream",
     "text": [
      "query was sucessfuly\n"
     ]
    }
   ],
   "source": [
    "create_table = \"\"\"\n",
    "CREATE TABLE IF NOT EXISTS customer (\n",
    "    id INT PRIMARY KEY AUTO_INCREMENT,\n",
    "    name VARCHAR(100) NOT NULL,\n",
    "    gender ENUM('Male','Female','Other'),\n",
    "    age INT NOT NULL,\n",
    "    location VARCHAR(150)\n",
    ");\n",
    "\"\"\"\n",
    "\n",
    "execute_query(connection, create_table)\n"
   ]
  },
  {
   "cell_type": "code",
   "execution_count": 42,
   "id": "03619c9a-0e2b-43fb-b7ca-40b3c3c58398",
   "metadata": {},
   "outputs": [
    {
     "name": "stdout",
     "output_type": "stream",
     "text": [
      "query was sucessfuly\n"
     ]
    }
   ],
   "source": [
    "execute_query(connection, \"ALTER TABLE customer ADD COLUMN order_name VARCHAR(100) NOT NULL;\")"
   ]
  },
  {
   "cell_type": "code",
   "execution_count": 38,
   "id": "144a5560-605a-4483-8a48-4e0777d97071",
   "metadata": {},
   "outputs": [
    {
     "data": {
      "text/plain": [
       "[('information_schema',),\n",
       " ('mysql',),\n",
       " ('mysql_python',),\n",
       " ('orders',),\n",
       " ('performance_schema',),\n",
       " ('practice_db',),\n",
       " ('records',),\n",
       " ('sakila',),\n",
       " ('startsql',),\n",
       " ('sys',),\n",
       " ('world',)]"
      ]
     },
     "execution_count": 38,
     "metadata": {},
     "output_type": "execute_result"
    }
   ],
   "source": [
    "read_query(connection,\"show databases\")"
   ]
  },
  {
   "cell_type": "code",
   "execution_count": 44,
   "id": "e0ac3721-c8d3-4e37-ba55-0d1849d11191",
   "metadata": {},
   "outputs": [
    {
     "name": "stdout",
     "output_type": "stream",
     "text": [
      "query was sucessfuly\n"
     ]
    }
   ],
   "source": [
    "Insert_values = \"\"\"\n",
    "INSERT INTO customer (name, gender, age, location,order_name) VALUES\n",
    "('Rajan', 'Male', 22, 'Mumbai', 'Chicken Burger'),\n",
    "('Aisha', 'Female', 25, 'Delhi', 'Veg Pizza'),\n",
    "('Karan', 'Male', 28, 'Bangalore', 'Pasta'),\n",
    "('Meena', 'Female', 30, 'Kolkata', 'Paneer Tikka'),\n",
    "('Rahul', 'Male', 24, 'Chennai', 'Sandwich'),\n",
    "('Priya', 'Female', 27, 'Pune', 'Veg Biryani'),\n",
    "('Arjun', 'Male', 26, 'Jaipur', 'Mutton Curry'),\n",
    "('Nisha', 'Female', 29, 'Hyderabad', 'Fried Rice'),\n",
    "('Vikram', 'Male', 31, 'Ahmedabad', 'Butter Chicken'),\n",
    "('Sneha', 'Female', 23, 'Lucknow', 'Samosa'),\n",
    "('Deepak', 'Male', 25, 'Indore', 'Burger'),\n",
    "('Rita', 'Female', 28, 'Patna', 'Idli'),\n",
    "('Amit', 'Male', 22, 'Surat', 'Chicke'),\n",
    "('Anjali', 'Female', 26, 'Bhopal', 'Chowmein'),\n",
    "('Suresh', 'Male', 29, 'Nagpur', 'Pizza'),\n",
    "('Kavita', 'Female', 24, 'Vadodara', 'Noodles'),\n",
    "('Ravi', 'Male', 32, 'Amritsar', 'Kebab'),\n",
    "('Tina', 'Female', 21, 'Guwahati', 'Pav Bhaji'),\n",
    "('Mohit', 'Male', 28, 'Ranchi', 'Fish Curry'),\n",
    "('Divya', 'Female', 27, 'Noida', 'Pasta'),\n",
    "('Aditya', 'Male', 23, 'Kanpur', 'Momos'),\n",
    "('Neha', 'Female', 25, 'Chandigarh', 'Chole Bhature'),\n",
    "('Harsh', 'Male', 30, 'Coimbatore', 'Paratha'),\n",
    "('Pooja', 'Female', 26, 'Varanasi', 'Dal Makhani'),\n",
    "('Rakesh', 'Male', 29, 'Thane', 'Biryani'),\n",
    "('Komal', 'Female', 28, 'Gurgaon', 'Idli Sambar'),\n",
    "('Sanjay', 'Male', 31, 'Mysuru', 'Fried Chicken'),\n",
    "('Ruchi', 'Female', 24, 'Nashik', 'Veg Roll'),\n",
    "('Vivek', 'Male', 27, 'Patiala', 'Egg Curry'),\n",
    "('Sonal', 'Female', 25, 'Jodhpur', 'Manchurian');\n",
    "\"\"\"\n",
    "execute_query(connection,Insert_values)"
   ]
  },
  {
   "cell_type": "code",
   "execution_count": 45,
   "id": "4a23d378-0e99-4f58-9d80-67a8ef31407a",
   "metadata": {},
   "outputs": [
    {
     "data": {
      "text/plain": [
       "[('customer',)]"
      ]
     },
     "execution_count": 45,
     "metadata": {},
     "output_type": "execute_result"
    }
   ],
   "source": [
    "read_query(connection,\"show tables\")"
   ]
  },
  {
   "cell_type": "code",
   "execution_count": 46,
   "id": "ce40cd91-285a-42e1-9ac5-18269f8cf29b",
   "metadata": {},
   "outputs": [
    {
     "data": {
      "text/plain": [
       "[(1, 'Rajan', 'Male', 22, 'Mumbai', 'Chicken Burger'),\n",
       " (2, 'Aisha', 'Female', 25, 'Delhi', 'Veg Pizza'),\n",
       " (3, 'Karan', 'Male', 28, 'Bangalore', 'Pasta'),\n",
       " (4, 'Meena', 'Female', 30, 'Kolkata', 'Paneer Tikka'),\n",
       " (5, 'Rahul', 'Male', 24, 'Chennai', 'Sandwich'),\n",
       " (6, 'Priya', 'Female', 27, 'Pune', 'Veg Biryani'),\n",
       " (7, 'Arjun', 'Male', 26, 'Jaipur', 'Mutton Curry'),\n",
       " (8, 'Nisha', 'Female', 29, 'Hyderabad', 'Fried Rice'),\n",
       " (9, 'Vikram', 'Male', 31, 'Ahmedabad', 'Butter Chicken'),\n",
       " (10, 'Sneha', 'Female', 23, 'Lucknow', 'Samosa'),\n",
       " (11, 'Deepak', 'Male', 25, 'Indore', 'Burger'),\n",
       " (12, 'Rita', 'Female', 28, 'Patna', 'Idli'),\n",
       " (13, 'Amit', 'Male', 22, 'Surat', 'Chicke'),\n",
       " (14, 'Anjali', 'Female', 26, 'Bhopal', 'Chowmein'),\n",
       " (15, 'Suresh', 'Male', 29, 'Nagpur', 'Pizza'),\n",
       " (16, 'Kavita', 'Female', 24, 'Vadodara', 'Noodles'),\n",
       " (17, 'Ravi', 'Male', 32, 'Amritsar', 'Kebab'),\n",
       " (18, 'Tina', 'Female', 21, 'Guwahati', 'Pav Bhaji'),\n",
       " (19, 'Mohit', 'Male', 28, 'Ranchi', 'Fish Curry'),\n",
       " (20, 'Divya', 'Female', 27, 'Noida', 'Pasta'),\n",
       " (21, 'Aditya', 'Male', 23, 'Kanpur', 'Momos'),\n",
       " (22, 'Neha', 'Female', 25, 'Chandigarh', 'Chole Bhature'),\n",
       " (23, 'Harsh', 'Male', 30, 'Coimbatore', 'Paratha'),\n",
       " (24, 'Pooja', 'Female', 26, 'Varanasi', 'Dal Makhani'),\n",
       " (25, 'Rakesh', 'Male', 29, 'Thane', 'Biryani'),\n",
       " (26, 'Komal', 'Female', 28, 'Gurgaon', 'Idli Sambar'),\n",
       " (27, 'Sanjay', 'Male', 31, 'Mysuru', 'Fried Chicken'),\n",
       " (28, 'Ruchi', 'Female', 24, 'Nashik', 'Veg Roll'),\n",
       " (29, 'Vivek', 'Male', 27, 'Patiala', 'Egg Curry'),\n",
       " (30, 'Sonal', 'Female', 25, 'Jodhpur', 'Manchurian')]"
      ]
     },
     "execution_count": 46,
     "metadata": {},
     "output_type": "execute_result"
    }
   ],
   "source": [
    "read_query(connection,\"SELECT * FROM customer;\")"
   ]
  }
 ],
 "metadata": {
  "kernelspec": {
   "display_name": "Python 3 (ipykernel)",
   "language": "python",
   "name": "python3"
  },
  "language_info": {
   "codemirror_mode": {
    "name": "ipython",
    "version": 3
   },
   "file_extension": ".py",
   "mimetype": "text/x-python",
   "name": "python",
   "nbconvert_exporter": "python",
   "pygments_lexer": "ipython3",
   "version": "3.12.7"
  }
 },
 "nbformat": 4,
 "nbformat_minor": 5
}
